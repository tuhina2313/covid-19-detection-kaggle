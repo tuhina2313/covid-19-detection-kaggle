{
 "cells": [
  {
   "cell_type": "markdown",
   "id": "unlike-discharge",
   "metadata": {
    "papermill": {
     "duration": 0.026805,
     "end_time": "2021-07-23T11:36:31.396681",
     "exception": false,
     "start_time": "2021-07-23T11:36:31.369876",
     "status": "completed"
    },
    "tags": []
   },
   "source": [
    "This notebook is taken from https://www.kaggle.com/h053473666/siim-cov19-efnb7-yolov5-infer\n",
    "\n",
    "INSTALLING DEPENDENCIES"
   ]
  },
  {
   "cell_type": "code",
   "execution_count": 1,
   "id": "historical-prisoner",
   "metadata": {
    "_kg_hide-input": true,
    "_kg_hide-output": true,
    "execution": {
     "iopub.execute_input": "2021-07-23T11:36:31.454137Z",
     "iopub.status.busy": "2021-07-23T11:36:31.452133Z",
     "iopub.status.idle": "2021-07-23T11:37:56.477153Z",
     "shell.execute_reply": "2021-07-23T11:37:56.476355Z",
     "shell.execute_reply.started": "2021-07-23T10:10:15.502678Z"
    },
    "papermill": {
     "duration": 85.055418,
     "end_time": "2021-07-23T11:37:56.477349",
     "exception": false,
     "start_time": "2021-07-23T11:36:31.421931",
     "status": "completed"
    },
    "tags": []
   },
   "outputs": [
    {
     "name": "stdout",
     "output_type": "stream",
     "text": [
      "\r\n",
      "Downloading and Extracting Packages\r\n",
      "######################################################################## | 100% \r\n",
      "Preparing transaction: - \b\bdone\r\n",
      "Verifying transaction: | \b\bdone\r\n",
      "Executing transaction: - \b\b\\ \b\bdone\r\n",
      "\r\n",
      "Downloading and Extracting Packages\r\n",
      "######################################################################## | 100% \r\n",
      "Preparing transaction: - \b\bdone\r\n",
      "Verifying transaction: | \b\bdone\r\n",
      "Executing transaction: - \b\b\\ \b\b| \b\b/ \b\bdone\r\n",
      "\r\n",
      "Downloading and Extracting Packages\r\n",
      "######################################################################## | 100% \r\n",
      "Preparing transaction: - \b\bdone\r\n",
      "Verifying transaction: | \b\bdone\r\n",
      "Executing transaction: - \b\bdone\r\n",
      "\r\n",
      "Downloading and Extracting Packages\r\n",
      "######################################################################## | 100% \r\n",
      "Preparing transaction: - \b\bdone\r\n",
      "Verifying transaction: | \b\bdone\r\n",
      "Executing transaction: - \b\b\\ \b\b| \b\b/ \b\b- \b\b\\ \b\b| \b\b/ \b\b- \b\b\\ \b\b| \b\b/ \b\b- \b\b\\ \b\b| \b\b/ \b\b- \b\b\\ \b\b| \b\b/ \b\b- \b\b\\ \b\b| \b\b/ \b\b- \b\bdone\r\n",
      "\r\n",
      "Downloading and Extracting Packages\r\n",
      "######################################################################## | 100% \r\n",
      "Preparing transaction: - \b\bdone\r\n",
      "Verifying transaction: | \b\bdone\r\n",
      "Executing transaction: - \b\b\\ \b\bdone\r\n",
      "\r\n",
      "Downloading and Extracting Packages\r\n",
      "######################################################################## | 100% \r\n",
      "Preparing transaction: - \b\bdone\r\n",
      "Verifying transaction: | \b\bdone\r\n",
      "Executing transaction: - \b\b\\ \b\b| \b\b/ \b\b- \b\b\\ \b\b| \b\b/ \b\b- \b\b\\ \b\bdone\r\n"
     ]
    }
   ],
   "source": [
    "!conda install '/kaggle/input/pydicom-conda-helper/libjpeg-turbo-2.1.0-h7f98852_0.tar.bz2' -c conda-forge -y\n",
    "!conda install '/kaggle/input/pydicom-conda-helper/libgcc-ng-9.3.0-h2828fa1_19.tar.bz2' -c conda-forge -y\n",
    "!conda install '/kaggle/input/pydicom-conda-helper/gdcm-2.8.9-py37h500ead1_1.tar.bz2' -c conda-forge -y\n",
    "!conda install '/kaggle/input/pydicom-conda-helper/conda-4.10.1-py37h89c1867_0.tar.bz2' -c conda-forge -y\n",
    "!conda install '/kaggle/input/pydicom-conda-helper/certifi-2020.12.5-py37h89c1867_1.tar.bz2' -c conda-forge -y\n",
    "!conda install '/kaggle/input/pydicom-conda-helper/openssl-1.1.1k-h7f98852_0.tar.bz2' -c conda-forge -y"
   ]
  },
  {
   "cell_type": "markdown",
   "id": "changing-wrapping",
   "metadata": {
    "papermill": {
     "duration": 0.05135,
     "end_time": "2021-07-23T11:37:56.581455",
     "exception": false,
     "start_time": "2021-07-23T11:37:56.530105",
     "status": "completed"
    },
    "tags": []
   },
   "source": [
    "IMPORTS"
   ]
  },
  {
   "cell_type": "code",
   "execution_count": 2,
   "id": "invalid-anderson",
   "metadata": {
    "_cell_guid": "b1076dfc-b9ad-4769-8c92-a6c4dae69d19",
    "_uuid": "8f2839f25d086af736a60e9eeb907d3b93b6e0e5",
    "execution": {
     "iopub.execute_input": "2021-07-23T11:37:56.688205Z",
     "iopub.status.busy": "2021-07-23T11:37:56.687268Z",
     "iopub.status.idle": "2021-07-23T11:37:56.697510Z",
     "shell.execute_reply": "2021-07-23T11:37:56.696934Z",
     "shell.execute_reply.started": "2021-07-23T10:12:14.331356Z"
    },
    "papermill": {
     "duration": 0.064856,
     "end_time": "2021-07-23T11:37:56.697658",
     "exception": false,
     "start_time": "2021-07-23T11:37:56.632802",
     "status": "completed"
    },
    "tags": []
   },
   "outputs": [],
   "source": [
    "import os\n",
    "\n",
    "from PIL import Image\n",
    "import pandas as pd\n",
    "from tqdm.auto import tqdm"
   ]
  },
  {
   "cell_type": "markdown",
   "id": "outstanding-mount",
   "metadata": {
    "papermill": {
     "duration": 0.049864,
     "end_time": "2021-07-23T11:37:56.797223",
     "exception": false,
     "start_time": "2021-07-23T11:37:56.747359",
     "status": "completed"
    },
    "tags": []
   },
   "source": [
    "Making a seperate dataframe to make a faster submission as the original submission file takes time to process"
   ]
  },
  {
   "cell_type": "code",
   "execution_count": 3,
   "id": "original-emergency",
   "metadata": {
    "execution": {
     "iopub.execute_input": "2021-07-23T11:37:56.910599Z",
     "iopub.status.busy": "2021-07-23T11:37:56.909974Z",
     "iopub.status.idle": "2021-07-23T11:37:56.929513Z",
     "shell.execute_reply": "2021-07-23T11:37:56.928846Z",
     "shell.execute_reply.started": "2021-07-23T10:12:17.108863Z"
    },
    "papermill": {
     "duration": 0.081218,
     "end_time": "2021-07-23T11:37:56.929659",
     "exception": false,
     "start_time": "2021-07-23T11:37:56.848441",
     "status": "completed"
    },
    "tags": []
   },
   "outputs": [],
   "source": [
    "df = pd.read_csv('../input/siim-covid19-detection/sample_submission.csv')\n",
    "if df.shape[0] == 2477:\n",
    "    fast_sub = True\n",
    "    fast_df = pd.DataFrame(([['00086460a852_study', 'negative 1 0 0 1 1'], \n",
    "                         ['000c9c05fd14_study', 'negative 1 0 0 1 1'], \n",
    "                         ['65761e66de9f_image', 'none 1 0 0 1 1'], \n",
    "                         ['51759b5579bc_image', 'none 1 0 0 1 1']]), \n",
    "                       columns=['id', 'PredictionString'])\n",
    "else:\n",
    "    fast_sub = False\n"
   ]
  },
  {
   "cell_type": "markdown",
   "id": "positive-receipt",
   "metadata": {
    "papermill": {
     "duration": 0.051027,
     "end_time": "2021-07-23T11:37:57.029835",
     "exception": false,
     "start_time": "2021-07-23T11:37:56.978808",
     "status": "completed"
    },
    "tags": []
   },
   "source": [
    "Converting .dcm images into .png images\n",
    "A VOI LUT, if present, allows the transformation of the modality pixel values into pixel values that are meaningful for print or display. If not present, we simply convert into a pixel array. \n",
    "\n",
    "We fix inversion in the images, if any, and then returned this transformed data. "
   ]
  },
  {
   "cell_type": "code",
   "execution_count": 4,
   "id": "organic-trauma",
   "metadata": {
    "execution": {
     "iopub.execute_input": "2021-07-23T11:37:57.136792Z",
     "iopub.status.busy": "2021-07-23T11:37:57.135722Z",
     "iopub.status.idle": "2021-07-23T11:37:57.340113Z",
     "shell.execute_reply": "2021-07-23T11:37:57.339533Z",
     "shell.execute_reply.started": "2021-07-23T10:17:27.241863Z"
    },
    "papermill": {
     "duration": 0.261262,
     "end_time": "2021-07-23T11:37:57.340264",
     "exception": false,
     "start_time": "2021-07-23T11:37:57.079002",
     "status": "completed"
    },
    "tags": []
   },
   "outputs": [],
   "source": [
    "import numpy as np\n",
    "import pydicom\n",
    "from pydicom.pixel_data_handlers.util import apply_voi_lut\n",
    "\n",
    "def read_xray(path, voi_lut = True, fix_monochrome = True):\n",
    "    dicom = pydicom.read_file(path)\n",
    "\n",
    "    if voi_lut:\n",
    "        data = apply_voi_lut(dicom.pixel_array, dicom)\n",
    "    else:\n",
    "        data = dicom.pixel_array\n",
    "               \n",
    "    if fix_monochrome and dicom.PhotometricInterpretation == \"MONOCHROME1\":\n",
    "        data = np.amax(data) - data\n",
    "        \n",
    "    data = data - np.min(data)\n",
    "    data = data / np.max(data)\n",
    "    data = (data * 255).astype(np.uint8)\n",
    "        \n",
    "    return data"
   ]
  },
  {
   "cell_type": "markdown",
   "id": "chicken-engineering",
   "metadata": {
    "papermill": {
     "duration": 0.049624,
     "end_time": "2021-07-23T11:37:57.438415",
     "exception": false,
     "start_time": "2021-07-23T11:37:57.388791",
     "status": "completed"
    },
    "tags": []
   },
   "source": [
    "Image resizing operation\n",
    "The original is taken from: https://www.kaggle.com/xhlulu/vinbigdata-process-and-resize-to-image"
   ]
  },
  {
   "cell_type": "code",
   "execution_count": 5,
   "id": "adopted-warrant",
   "metadata": {
    "execution": {
     "iopub.execute_input": "2021-07-23T11:37:57.543564Z",
     "iopub.status.busy": "2021-07-23T11:37:57.542622Z",
     "iopub.status.idle": "2021-07-23T11:37:57.546275Z",
     "shell.execute_reply": "2021-07-23T11:37:57.545714Z",
     "shell.execute_reply.started": "2021-07-23T10:20:00.871452Z"
    },
    "papermill": {
     "duration": 0.059334,
     "end_time": "2021-07-23T11:37:57.546477",
     "exception": false,
     "start_time": "2021-07-23T11:37:57.487143",
     "status": "completed"
    },
    "tags": []
   },
   "outputs": [],
   "source": [
    "def resize(array, size, keep_ratio=False, resample=Image.LANCZOS):\n",
    "    im = Image.fromarray(array)\n",
    "    \n",
    "    if keep_ratio:\n",
    "        im.thumbnail((size, size), resample)\n",
    "    else:\n",
    "        im = im.resize((size, size), resample)\n",
    "    \n",
    "    return im"
   ]
  },
  {
   "cell_type": "markdown",
   "id": "buried-settle",
   "metadata": {
    "papermill": {
     "duration": 0.050002,
     "end_time": "2021-07-23T11:37:57.644599",
     "exception": false,
     "start_time": "2021-07-23T11:37:57.594597",
     "status": "completed"
    },
    "tags": []
   },
   "source": [
    "# Preparing study level test data\n",
    "Now we create a test directory '/kaggle/tmp/test/study/'\n",
    "In case of a fast submission, manually transforming images and copying files into the new directory (names with '_study.png').\n",
    "Otherwise, copy all images in the test folder\n",
    "(size = 600)"
   ]
  },
  {
   "cell_type": "code",
   "execution_count": 6,
   "id": "relevant-intellectual",
   "metadata": {
    "execution": {
     "iopub.execute_input": "2021-07-23T11:37:57.753700Z",
     "iopub.status.busy": "2021-07-23T11:37:57.752931Z",
     "iopub.status.idle": "2021-07-23T11:37:58.821784Z",
     "shell.execute_reply": "2021-07-23T11:37:58.820616Z",
     "shell.execute_reply.started": "2021-07-23T10:32:13.066816Z"
    },
    "papermill": {
     "duration": 1.128219,
     "end_time": "2021-07-23T11:37:58.821940",
     "exception": false,
     "start_time": "2021-07-23T11:37:57.693721",
     "status": "completed"
    },
    "tags": []
   },
   "outputs": [],
   "source": [
    "\n",
    "split = 'test'\n",
    "save_dir = f'/kaggle/tmp/{split}/'\n",
    "\n",
    "os.makedirs(save_dir, exist_ok=True)\n",
    "\n",
    "save_dir = f'/kaggle/tmp/{split}/study/'\n",
    "os.makedirs(save_dir, exist_ok=True)\n",
    "if fast_sub:\n",
    "    xray = read_xray('../input/siim-covid19-detection/train/00086460a852/9e8302230c91/65761e66de9f.dcm')\n",
    "    im = resize(xray, size=600)  \n",
    "    study = '00086460a852' + '_study.png'\n",
    "    im.save(os.path.join(save_dir, study))\n",
    "    xray = read_xray('../input/siim-covid19-detection/train/000c9c05fd14/e555410bd2cd/51759b5579bc.dcm')\n",
    "    im = resize(xray, size=600)  \n",
    "    study = '000c9c05fd14' + '_study.png'\n",
    "    im.save(os.path.join(save_dir, study))\n",
    "else:   \n",
    "    for dirname, _, filenames in tqdm(os.walk(f'../input/siim-covid19-detection/{split}')):\n",
    "        for file in filenames:\n",
    "            # set keep_ratio=True to have original aspect ratio\n",
    "            xray = read_xray(os.path.join(dirname, file))\n",
    "            im = resize(xray, size=600)  \n",
    "            study = dirname.split('/')[-2] + '_study.png'\n",
    "            im.save(os.path.join(save_dir, study))\n"
   ]
  },
  {
   "cell_type": "markdown",
   "id": "surgical-spoke",
   "metadata": {
    "papermill": {
     "duration": 0.049894,
     "end_time": "2021-07-23T11:37:58.923983",
     "exception": false,
     "start_time": "2021-07-23T11:37:58.874089",
     "status": "completed"
    },
    "tags": []
   },
   "source": [
    "# Preparing image level test data\n",
    "-We create three arrays - image_id, dim0 and dim1\n",
    "-Now we create an image level test directory '/kaggle/tmp/test/image/'\n",
    "-Images resized to 512\n",
    "-append image ID, shapes of the image to the three arrays"
   ]
  },
  {
   "cell_type": "code",
   "execution_count": 7,
   "id": "comfortable-article",
   "metadata": {
    "execution": {
     "iopub.execute_input": "2021-07-23T11:37:59.036708Z",
     "iopub.status.busy": "2021-07-23T11:37:59.035803Z",
     "iopub.status.idle": "2021-07-23T11:37:59.491921Z",
     "shell.execute_reply": "2021-07-23T11:37:59.492592Z",
     "shell.execute_reply.started": "2021-07-23T10:52:11.087882Z"
    },
    "papermill": {
     "duration": 0.518574,
     "end_time": "2021-07-23T11:37:59.492804",
     "exception": false,
     "start_time": "2021-07-23T11:37:58.974230",
     "status": "completed"
    },
    "tags": []
   },
   "outputs": [],
   "source": [
    "image_id = []\n",
    "dim0 = []\n",
    "dim1 = []\n",
    "splits = []\n",
    "save_dir = f'/kaggle/tmp/{split}/image/'\n",
    "os.makedirs(save_dir, exist_ok=True)\n",
    "if fast_sub:\n",
    "    xray = read_xray('../input/siim-covid19-detection/train/00086460a852/9e8302230c91/65761e66de9f.dcm')\n",
    "    im = resize(xray, size=512)  \n",
    "    im.save(os.path.join(save_dir,'65761e66de9f_image.png'))\n",
    "    image_id.append('65761e66de9f.dcm'.replace('.dcm', ''))\n",
    "    dim0.append(xray.shape[0])\n",
    "    dim1.append(xray.shape[1])\n",
    "    splits.append(split)\n",
    "    xray = read_xray('../input/siim-covid19-detection/train/000c9c05fd14/e555410bd2cd/51759b5579bc.dcm')\n",
    "    im = resize(xray, size=512)  \n",
    "    im.save(os.path.join(save_dir, '51759b5579bc_image.png'))\n",
    "    image_id.append('51759b5579bc.dcm'.replace('.dcm', ''))\n",
    "    dim0.append(xray.shape[0])\n",
    "    dim1.append(xray.shape[1])\n",
    "    splits.append(split)\n",
    "else:\n",
    "    for dirname, _, filenames in tqdm(os.walk(f'../input/siim-covid19-detection/{split}')):\n",
    "        for file in filenames:\n",
    "            # set keep_ratio=True to have original aspect ratio\n",
    "            xray = read_xray(os.path.join(dirname, file))\n",
    "            im = resize(xray, size=512)  \n",
    "            im.save(os.path.join(save_dir, file.replace('.dcm', '_image.png')))\n",
    "            image_id.append(file.replace('.dcm', ''))\n",
    "            dim0.append(xray.shape[0])\n",
    "            dim1.append(xray.shape[1])\n",
    "            splits.append(split)\n",
    "meta = pd.DataFrame.from_dict({'image_id': image_id, 'dim0': dim0, 'dim1': dim1, 'split': splits})"
   ]
  },
  {
   "cell_type": "markdown",
   "id": "afraid-exemption",
   "metadata": {
    "papermill": {
     "duration": 0.050583,
     "end_time": "2021-07-23T11:37:59.594150",
     "exception": false,
     "start_time": "2021-07-23T11:37:59.543567",
     "status": "completed"
    },
    "tags": []
   },
   "source": [
    "# Predicting results for Study-level\n"
   ]
  },
  {
   "cell_type": "code",
   "execution_count": 8,
   "id": "animated-anthropology",
   "metadata": {
    "execution": {
     "iopub.execute_input": "2021-07-23T11:37:59.713848Z",
     "iopub.status.busy": "2021-07-23T11:37:59.712824Z",
     "iopub.status.idle": "2021-07-23T11:37:59.716391Z",
     "shell.execute_reply": "2021-07-23T11:37:59.715823Z",
     "shell.execute_reply.started": "2021-07-23T11:03:08.156830Z"
    },
    "papermill": {
     "duration": 0.072857,
     "end_time": "2021-07-23T11:37:59.716558",
     "exception": false,
     "start_time": "2021-07-23T11:37:59.643701",
     "status": "completed"
    },
    "tags": []
   },
   "outputs": [],
   "source": [
    "import numpy as np \n",
    "import pandas as pd\n",
    "if fast_sub:\n",
    "    df = fast_df.copy()\n",
    "else:\n",
    "    df = pd.read_csv('../input/siim-covid19-detection/sample_submission.csv')\n",
    "id_laststr_list  = []\n",
    "for i in range(df.shape[0]):\n",
    "    id_laststr_list.append(df.loc[i,'id'][-1])\n",
    "df['id_last_str'] = id_laststr_list\n",
    "\n",
    "study_len = df[df['id_last_str'] == 'y'].shape[0]"
   ]
  },
  {
   "cell_type": "code",
   "execution_count": 9,
   "id": "selective-disco",
   "metadata": {
    "execution": {
     "iopub.execute_input": "2021-07-23T11:37:59.825866Z",
     "iopub.status.busy": "2021-07-23T11:37:59.824951Z",
     "iopub.status.idle": "2021-07-23T11:37:59.829941Z",
     "shell.execute_reply": "2021-07-23T11:37:59.830567Z",
     "shell.execute_reply.started": "2021-07-23T11:03:36.519564Z"
    },
    "papermill": {
     "duration": 0.064137,
     "end_time": "2021-07-23T11:37:59.830707",
     "exception": false,
     "start_time": "2021-07-23T11:37:59.766570",
     "status": "completed"
    },
    "tags": []
   },
   "outputs": [
    {
     "data": {
      "text/plain": [
       "['y', 'y', 'e', 'e']"
      ]
     },
     "execution_count": 9,
     "metadata": {},
     "output_type": "execute_result"
    }
   ],
   "source": [
    "id_laststr_list"
   ]
  },
  {
   "cell_type": "code",
   "execution_count": 10,
   "id": "duplicate-whale",
   "metadata": {
    "execution": {
     "iopub.execute_input": "2021-07-23T11:37:59.956462Z",
     "iopub.status.busy": "2021-07-23T11:37:59.945763Z",
     "iopub.status.idle": "2021-07-23T11:41:21.343044Z",
     "shell.execute_reply": "2021-07-23T11:41:21.342441Z",
     "shell.execute_reply.started": "2021-07-23T11:05:55.624086Z"
    },
    "papermill": {
     "duration": 201.461793,
     "end_time": "2021-07-23T11:41:21.343203",
     "exception": false,
     "start_time": "2021-07-23T11:37:59.881410",
     "status": "completed"
    },
    "tags": []
   },
   "outputs": [
    {
     "name": "stdout",
     "output_type": "stream",
     "text": [
      "Running on 1 replicas\n",
      "1/1 [==============================] - 9s 9s/step\n",
      "1/1 [==============================] - 5s 5s/step\n",
      "1/1 [==============================] - 6s 6s/step\n",
      "1/1 [==============================] - 5s 5s/step\n",
      "1/1 [==============================] - 5s 5s/step\n"
     ]
    }
   ],
   "source": [
    "!pip install /kaggle/input/kerasapplications -q\n",
    "!pip install /kaggle/input/efficientnet-keras-source-code/ -q --no-deps\n",
    "\n",
    "import os\n",
    "\n",
    "import efficientnet.tfkeras as efn\n",
    "import numpy as np\n",
    "import pandas as pd\n",
    "import tensorflow as tf\n",
    "\n",
    "def auto_select_accelerator():\n",
    "    try:\n",
    "        tpu = tf.distribute.cluster_resolver.TPUClusterResolver()\n",
    "        tf.config.experimental_connect_to_cluster(tpu)\n",
    "        tf.tpu.experimental.initialize_tpu_system(tpu)\n",
    "        strategy = tf.distribute.experimental.TPUStrategy(tpu)\n",
    "        print(\"Running on TPU:\", tpu.master())\n",
    "    except ValueError:\n",
    "        strategy = tf.distribute.get_strategy()\n",
    "    print(f\"Running on {strategy.num_replicas_in_sync} replicas\")\n",
    "\n",
    "    return strategy\n",
    "\n",
    "\n",
    "def build_decoder(with_labels=True, target_size=(300, 300), ext='jpg'):\n",
    "    def decode(path):\n",
    "        file_bytes = tf.io.read_file(path)\n",
    "        if ext == 'png':\n",
    "            img = tf.image.decode_png(file_bytes, channels=3)\n",
    "        elif ext in ['jpg', 'jpeg']:\n",
    "            img = tf.image.decode_jpeg(file_bytes, channels=3)\n",
    "        else:\n",
    "            raise ValueError(\"Image extension not supported\")\n",
    "\n",
    "        img = tf.cast(img, tf.float32) / 255.0\n",
    "        img = tf.image.resize(img, target_size)\n",
    "\n",
    "        return img\n",
    "\n",
    "    def decode_with_labels(path, label):\n",
    "        return decode(path), label\n",
    "\n",
    "    return decode_with_labels if with_labels else decode\n",
    "\n",
    "\n",
    "def build_augmenter(with_labels=True):\n",
    "    def augment(img):\n",
    "        img = tf.image.random_flip_left_right(img)\n",
    "        img = tf.image.random_flip_up_down(img)\n",
    "        return img\n",
    "\n",
    "    def augment_with_labels(img, label):\n",
    "        return augment(img), label\n",
    "\n",
    "    return augment_with_labels if with_labels else augment\n",
    "\n",
    "\n",
    "def build_dataset(paths, labels=None, bsize=32, cache=True,\n",
    "                  decode_fn=None, augment_fn=None,\n",
    "                  augment=True, repeat=True, shuffle=1024, \n",
    "                  cache_dir=\"\"):\n",
    "    if cache_dir != \"\" and cache is True:\n",
    "        os.makedirs(cache_dir, exist_ok=True)\n",
    "\n",
    "    if decode_fn is None:\n",
    "        decode_fn = build_decoder(labels is not None)\n",
    "\n",
    "    if augment_fn is None:\n",
    "        augment_fn = build_augmenter(labels is not None)\n",
    "\n",
    "    AUTO = tf.data.experimental.AUTOTUNE\n",
    "    slices = paths if labels is None else (paths, labels)\n",
    "\n",
    "    dset = tf.data.Dataset.from_tensor_slices(slices)\n",
    "    dset = dset.map(decode_fn, num_parallel_calls=AUTO)\n",
    "    dset = dset.cache(cache_dir) if cache else dset\n",
    "    dset = dset.map(augment_fn, num_parallel_calls=AUTO) if augment else dset\n",
    "    dset = dset.repeat() if repeat else dset\n",
    "    dset = dset.shuffle(shuffle) if shuffle else dset\n",
    "    dset = dset.batch(bsize).prefetch(AUTO)\n",
    "\n",
    "    return dset\n",
    "\n",
    "strategy = auto_select_accelerator()\n",
    "BATCH_SIZE = strategy.num_replicas_in_sync * 16\n",
    "\n",
    "IMSIZE = (224, 240, 260, 300, 380, 456, 528, 600, 512)\n",
    "\n",
    "#load_dir = f\"/kaggle/input/{COMPETITION_NAME}/\"\n",
    "if fast_sub:\n",
    "    sub_df = fast_df.copy()\n",
    "else:\n",
    "    sub_df = pd.read_csv('../input/siim-covid19-detection/sample_submission.csv')\n",
    "sub_df = sub_df[:study_len]\n",
    "test_paths = f'/kaggle/tmp/{split}/study/' + sub_df['id'] +'.png'\n",
    "\n",
    "sub_df['negative'] = 0\n",
    "sub_df['typical'] = 0\n",
    "sub_df['indeterminate'] = 0\n",
    "sub_df['atypical'] = 0\n",
    "\n",
    "\n",
    "label_cols = sub_df.columns[2:]\n",
    "\n",
    "test_decoder = build_decoder(with_labels=False, target_size=(IMSIZE[7], IMSIZE[7]), ext='png')\n",
    "dtest = build_dataset(\n",
    "    test_paths, bsize=BATCH_SIZE, repeat=False, \n",
    "    shuffle=False, augment=False, cache=False,\n",
    "    decode_fn=test_decoder\n",
    ")\n",
    "\n",
    "with strategy.scope():\n",
    "    \n",
    "    models = []\n",
    "    \n",
    "    models0 = tf.keras.models.load_model(\n",
    "        '../input/siim-covid19-efnb7-train-study/model0.h5'\n",
    "    )\n",
    "    models1 = tf.keras.models.load_model(\n",
    "        '../input/siim-covid19-efnb7-train-study/model1.h5'\n",
    "    )\n",
    "    models2 = tf.keras.models.load_model(\n",
    "        '../input/siim-covid19-efnb7-train-study/model2.h5'\n",
    "    )\n",
    "    models3 = tf.keras.models.load_model(\n",
    "        '../input/siim-covid19-efnb7-train-study/model3.h5'\n",
    "    )\n",
    "    models4 = tf.keras.models.load_model(\n",
    "        '../input/siim-covid19-efnb7-train-study/model4.h5'\n",
    "    )\n",
    "    \n",
    "    models.append(models0)\n",
    "    models.append(models1)\n",
    "    models.append(models2)\n",
    "    models.append(models3)\n",
    "    models.append(models4)\n",
    "\n",
    "    \n",
    "    \n",
    "    \n",
    "sub_df[label_cols] = sum([model.predict(dtest, verbose=1) for model in models]) / len(models)"
   ]
  },
  {
   "cell_type": "code",
   "execution_count": 11,
   "id": "divine-spare",
   "metadata": {
    "execution": {
     "iopub.execute_input": "2021-07-23T11:41:21.469309Z",
     "iopub.status.busy": "2021-07-23T11:41:21.466890Z",
     "iopub.status.idle": "2021-07-23T11:41:21.470161Z",
     "shell.execute_reply": "2021-07-23T11:41:21.470713Z",
     "shell.execute_reply.started": "2021-07-23T11:11:22.508498Z"
    },
    "papermill": {
     "duration": 0.073087,
     "end_time": "2021-07-23T11:41:21.470879",
     "exception": false,
     "start_time": "2021-07-23T11:41:21.397792",
     "status": "completed"
    },
    "tags": []
   },
   "outputs": [],
   "source": [
    "sub_df.columns = ['id', 'PredictionString1', 'negative', 'typical', 'indeterminate', 'atypical']\n",
    "df = pd.merge(df, sub_df, on = 'id', how = 'left')"
   ]
  },
  {
   "cell_type": "markdown",
   "id": "recreational-honor",
   "metadata": {
    "papermill": {
     "duration": 0.054212,
     "end_time": "2021-07-23T11:41:21.578824",
     "exception": false,
     "start_time": "2021-07-23T11:41:21.524612",
     "status": "completed"
    },
    "tags": []
   },
   "source": [
    "# study string"
   ]
  },
  {
   "cell_type": "code",
   "execution_count": 12,
   "id": "operating-heater",
   "metadata": {
    "execution": {
     "iopub.execute_input": "2021-07-23T11:41:21.698475Z",
     "iopub.status.busy": "2021-07-23T11:41:21.697546Z",
     "iopub.status.idle": "2021-07-23T11:41:21.702337Z",
     "shell.execute_reply": "2021-07-23T11:41:21.701820Z",
     "shell.execute_reply.started": "2021-07-23T11:12:40.899752Z"
    },
    "papermill": {
     "duration": 0.068883,
     "end_time": "2021-07-23T11:41:21.702472",
     "exception": false,
     "start_time": "2021-07-23T11:41:21.633589",
     "status": "completed"
    },
    "tags": []
   },
   "outputs": [],
   "source": [
    "for i in range(study_len):\n",
    "    negative = df.loc[i,'negative']\n",
    "    typical = df.loc[i,'typical']\n",
    "    indeterminate = df.loc[i,'indeterminate']\n",
    "    atypical = df.loc[i,'atypical']\n",
    "    df.loc[i, 'PredictionString'] = f'negative {negative} 0 0 1 1 typical {typical} 0 0 1 1 indeterminate {indeterminate} 0 0 1 1 atypical {atypical} 0 0 1 1'"
   ]
  },
  {
   "cell_type": "code",
   "execution_count": 13,
   "id": "living-advocate",
   "metadata": {
    "execution": {
     "iopub.execute_input": "2021-07-23T11:41:21.817113Z",
     "iopub.status.busy": "2021-07-23T11:41:21.816165Z",
     "iopub.status.idle": "2021-07-23T11:41:21.819219Z",
     "shell.execute_reply": "2021-07-23T11:41:21.819835Z",
     "shell.execute_reply.started": "2021-07-23T11:12:46.102511Z"
    },
    "papermill": {
     "duration": 0.0631,
     "end_time": "2021-07-23T11:41:21.819989",
     "exception": false,
     "start_time": "2021-07-23T11:41:21.756889",
     "status": "completed"
    },
    "tags": []
   },
   "outputs": [],
   "source": [
    "df_study = df[['id', 'PredictionString']]"
   ]
  },
  {
   "cell_type": "code",
   "execution_count": 14,
   "id": "north-career",
   "metadata": {
    "execution": {
     "iopub.execute_input": "2021-07-23T11:41:21.940368Z",
     "iopub.status.busy": "2021-07-23T11:41:21.939631Z",
     "iopub.status.idle": "2021-07-23T11:41:21.951147Z",
     "shell.execute_reply": "2021-07-23T11:41:21.950586Z",
     "shell.execute_reply.started": "2021-07-23T11:13:22.696650Z"
    },
    "papermill": {
     "duration": 0.076561,
     "end_time": "2021-07-23T11:41:21.951287",
     "exception": false,
     "start_time": "2021-07-23T11:41:21.874726",
     "status": "completed"
    },
    "tags": []
   },
   "outputs": [
    {
     "data": {
      "text/html": [
       "<div>\n",
       "<style scoped>\n",
       "    .dataframe tbody tr th:only-of-type {\n",
       "        vertical-align: middle;\n",
       "    }\n",
       "\n",
       "    .dataframe tbody tr th {\n",
       "        vertical-align: top;\n",
       "    }\n",
       "\n",
       "    .dataframe thead th {\n",
       "        text-align: right;\n",
       "    }\n",
       "</style>\n",
       "<table border=\"1\" class=\"dataframe\">\n",
       "  <thead>\n",
       "    <tr style=\"text-align: right;\">\n",
       "      <th></th>\n",
       "      <th>id</th>\n",
       "      <th>PredictionString1</th>\n",
       "      <th>negative</th>\n",
       "      <th>typical</th>\n",
       "      <th>indeterminate</th>\n",
       "      <th>atypical</th>\n",
       "    </tr>\n",
       "  </thead>\n",
       "  <tbody>\n",
       "    <tr>\n",
       "      <th>0</th>\n",
       "      <td>00086460a852_study</td>\n",
       "      <td>negative 1 0 0 1 1</td>\n",
       "      <td>0.076097</td>\n",
       "      <td>0.493225</td>\n",
       "      <td>0.305214</td>\n",
       "      <td>0.125463</td>\n",
       "    </tr>\n",
       "    <tr>\n",
       "      <th>1</th>\n",
       "      <td>000c9c05fd14_study</td>\n",
       "      <td>negative 1 0 0 1 1</td>\n",
       "      <td>0.187800</td>\n",
       "      <td>0.091041</td>\n",
       "      <td>0.140654</td>\n",
       "      <td>0.580506</td>\n",
       "    </tr>\n",
       "  </tbody>\n",
       "</table>\n",
       "</div>"
      ],
      "text/plain": [
       "                   id   PredictionString1  negative   typical  indeterminate  \\\n",
       "0  00086460a852_study  negative 1 0 0 1 1  0.076097  0.493225       0.305214   \n",
       "1  000c9c05fd14_study  negative 1 0 0 1 1  0.187800  0.091041       0.140654   \n",
       "\n",
       "   atypical  \n",
       "0  0.125463  \n",
       "1  0.580506  "
      ]
     },
     "execution_count": 14,
     "metadata": {},
     "output_type": "execute_result"
    }
   ],
   "source": [
    "sub_df.head()"
   ]
  },
  {
   "cell_type": "code",
   "execution_count": 15,
   "id": "manual-diary",
   "metadata": {
    "execution": {
     "iopub.execute_input": "2021-07-23T11:41:22.077950Z",
     "iopub.status.busy": "2021-07-23T11:41:22.076856Z",
     "iopub.status.idle": "2021-07-23T11:43:56.030652Z",
     "shell.execute_reply": "2021-07-23T11:43:56.031176Z",
     "shell.execute_reply.started": "2021-07-23T11:18:34.130723Z"
    },
    "papermill": {
     "duration": 154.025523,
     "end_time": "2021-07-23T11:43:56.031453",
     "exception": false,
     "start_time": "2021-07-23T11:41:22.005930",
     "status": "completed"
    },
    "tags": []
   },
   "outputs": [
    {
     "name": "stdout",
     "output_type": "stream",
     "text": [
      "1/1 [==============================] - 6s 6s/step\n",
      "1/1 [==============================] - 5s 5s/step\n",
      "1/1 [==============================] - 5s 5s/step\n",
      "1/1 [==============================] - 5s 5s/step\n",
      "1/1 [==============================] - 6s 6s/step\n"
     ]
    }
   ],
   "source": [
    "if fast_sub:\n",
    "    sub_df = fast_df.copy()\n",
    "else:\n",
    "    sub_df = pd.read_csv('/kaggle/input/siim-covid19-detection/sample_submission.csv')\n",
    "sub_df = sub_df[study_len:]\n",
    "test_paths = f'/kaggle/tmp/{split}/image/' + sub_df['id'] +'.png'\n",
    "sub_df['none'] = 0\n",
    "\n",
    "label_cols = sub_df.columns[2]\n",
    "\n",
    "test_decoder = build_decoder(with_labels=False, target_size=(IMSIZE[8], IMSIZE[8]), ext='png')\n",
    "dtest = build_dataset(\n",
    "    test_paths, bsize=BATCH_SIZE, repeat=False, \n",
    "    shuffle=False, augment=False, cache=False,\n",
    "    decode_fn=test_decoder\n",
    ")\n",
    "\n",
    "with strategy.scope():\n",
    "    \n",
    "    models = []\n",
    "    \n",
    "    models0 = tf.keras.models.load_model(\n",
    "        '/kaggle/input/siim-covid19-efnb7-train-fold0-5-2class/model0.h5'\n",
    "    )\n",
    "    models1 = tf.keras.models.load_model(\n",
    "        '/kaggle/input/siim-covid19-efnb7-train-fold0-5-2class/model1.h5'\n",
    "    )\n",
    "    models2 = tf.keras.models.load_model(\n",
    "        '/kaggle/input/siim-covid19-efnb7-train-fold0-5-2class/model2.h5'\n",
    "    )\n",
    "    models3 = tf.keras.models.load_model(\n",
    "        '/kaggle/input/siim-covid19-efnb7-train-fold0-5-2class/model3.h5'\n",
    "    )\n",
    "    models4 = tf.keras.models.load_model(\n",
    "        '/kaggle/input/siim-covid19-efnb7-train-fold0-5-2class/model4.h5'\n",
    "    )\n",
    "    \n",
    "    models.append(models0)\n",
    "    models.append(models1)\n",
    "    models.append(models2)\n",
    "    models.append(models3)\n",
    "    models.append(models4)\n",
    "\n",
    "weights = {\n",
    "    0: 1,\n",
    "    1: 1,\n",
    "    2: 1,\n",
    "    3: 1,\n",
    "    4: 3\n",
    "}\n",
    "\n",
    "weights_sum = sum(weights.values())\n",
    "weights = {k: v/weights_sum for k, v in weights.items()}\n",
    "\n",
    "predictions = [model.predict(dtest, verbose=1) for model in models]\n",
    "for i, pred in enumerate(predictions):\n",
    "    predictions[i] = weights[i] * pred\n",
    "    \n",
    "sub_df[label_cols] = sum(predictions)\n",
    "#sub_df[label_cols] = sum([model.predict(dtest, verbose=1) for model in models]) / len(models)\n",
    "df_2class = sub_df.reset_index(drop=True)"
   ]
  },
  {
   "cell_type": "code",
   "execution_count": 16,
   "id": "harmful-manufacturer",
   "metadata": {
    "execution": {
     "iopub.execute_input": "2021-07-23T11:43:56.153375Z",
     "iopub.status.busy": "2021-07-23T11:43:56.152748Z",
     "iopub.status.idle": "2021-07-23T11:43:56.157655Z",
     "shell.execute_reply": "2021-07-23T11:43:56.157142Z",
     "shell.execute_reply.started": "2021-07-23T11:20:43.343444Z"
    },
    "papermill": {
     "duration": 0.066506,
     "end_time": "2021-07-23T11:43:56.157806",
     "exception": false,
     "start_time": "2021-07-23T11:43:56.091300",
     "status": "completed"
    },
    "tags": []
   },
   "outputs": [],
   "source": [
    "del models\n",
    "del models0, models1, models2, models3, models4"
   ]
  },
  {
   "cell_type": "code",
   "execution_count": 17,
   "id": "internal-currency",
   "metadata": {
    "execution": {
     "iopub.execute_input": "2021-07-23T11:43:56.279135Z",
     "iopub.status.busy": "2021-07-23T11:43:56.278397Z",
     "iopub.status.idle": "2021-07-23T11:43:59.297275Z",
     "shell.execute_reply": "2021-07-23T11:43:59.297883Z",
     "shell.execute_reply.started": "2021-07-23T11:20:45.869909Z"
    },
    "papermill": {
     "duration": 3.08372,
     "end_time": "2021-07-23T11:43:59.298070",
     "exception": false,
     "start_time": "2021-07-23T11:43:56.214350",
     "status": "completed"
    },
    "tags": []
   },
   "outputs": [
    {
     "data": {
      "text/plain": [
       "<weakproxy at 0x7fe6bc632590 to Device at 0x7fe6e036d350>"
      ]
     },
     "execution_count": 17,
     "metadata": {},
     "output_type": "execute_result"
    }
   ],
   "source": [
    "from numba import cuda\n",
    "import torch\n",
    "cuda.select_device(0)\n",
    "cuda.close()\n",
    "cuda.select_device(0)"
   ]
  },
  {
   "cell_type": "markdown",
   "id": "equal-colorado",
   "metadata": {
    "papermill": {
     "duration": 0.058753,
     "end_time": "2021-07-23T11:43:59.417450",
     "exception": false,
     "start_time": "2021-07-23T11:43:59.358697",
     "status": "completed"
    },
    "tags": []
   },
   "source": [
    "# yolov5 predict"
   ]
  },
  {
   "cell_type": "code",
   "execution_count": 18,
   "id": "excited-jonathan",
   "metadata": {
    "execution": {
     "iopub.execute_input": "2021-07-23T11:43:59.544037Z",
     "iopub.status.busy": "2021-07-23T11:43:59.543200Z",
     "iopub.status.idle": "2021-07-23T11:43:59.789620Z",
     "shell.execute_reply": "2021-07-23T11:43:59.790178Z",
     "shell.execute_reply.started": "2021-07-23T11:20:52.561677Z"
    },
    "papermill": {
     "duration": 0.313814,
     "end_time": "2021-07-23T11:43:59.790375",
     "exception": false,
     "start_time": "2021-07-23T11:43:59.476561",
     "status": "completed"
    },
    "tags": []
   },
   "outputs": [],
   "source": [
    "import numpy as np, pandas as pd\n",
    "from glob import glob\n",
    "import shutil, os\n",
    "import matplotlib.pyplot as plt\n",
    "from sklearn.model_selection import GroupKFold\n",
    "from tqdm.notebook import tqdm\n",
    "import seaborn as sns\n",
    "import torch"
   ]
  },
  {
   "cell_type": "code",
   "execution_count": 19,
   "id": "important-speed",
   "metadata": {
    "execution": {
     "iopub.execute_input": "2021-07-23T11:43:59.924295Z",
     "iopub.status.busy": "2021-07-23T11:43:59.923176Z",
     "iopub.status.idle": "2021-07-23T11:43:59.926609Z",
     "shell.execute_reply": "2021-07-23T11:43:59.926030Z",
     "shell.execute_reply.started": "2021-07-23T11:20:55.630563Z"
    },
    "papermill": {
     "duration": 0.077021,
     "end_time": "2021-07-23T11:43:59.926795",
     "exception": false,
     "start_time": "2021-07-23T11:43:59.849774",
     "status": "completed"
    },
    "tags": []
   },
   "outputs": [],
   "source": [
    "meta = meta[meta['split'] == 'test']\n",
    "if fast_sub:\n",
    "    test_df = fast_df.copy()\n",
    "else:\n",
    "    test_df = pd.read_csv('../input/siim-covid19-detection/sample_submission.csv')\n",
    "test_df = df[study_len:].reset_index(drop=True) \n",
    "meta['image_id'] = meta['image_id'] + '_image'\n",
    "meta.columns = ['id', 'dim0', 'dim1', 'split']\n",
    "test_df = pd.merge(test_df, meta, on = 'id', how = 'left')\n"
   ]
  },
  {
   "cell_type": "code",
   "execution_count": 20,
   "id": "social-condition",
   "metadata": {
    "execution": {
     "iopub.execute_input": "2021-07-23T11:44:00.072526Z",
     "iopub.status.busy": "2021-07-23T11:44:00.056743Z",
     "iopub.status.idle": "2021-07-23T11:44:18.044797Z",
     "shell.execute_reply": "2021-07-23T11:44:18.045283Z",
     "shell.execute_reply.started": "2021-07-23T11:25:16.257623Z"
    },
    "papermill": {
     "duration": 18.061481,
     "end_time": "2021-07-23T11:44:18.045508",
     "exception": false,
     "start_time": "2021-07-23T11:43:59.984027",
     "status": "completed"
    },
    "tags": []
   },
   "outputs": [
    {
     "name": "stdout",
     "output_type": "stream",
     "text": [
      "fatal: not a git repository (or any parent up to mount point /kaggle)\r\n",
      "Stopping at filesystem boundary (GIT_DISCOVERY_ACROSS_FILESYSTEM not set).\r\n",
      "\u001b[34m\u001b[1mdetect: \u001b[0mweights=['/kaggle/input/weights-of-yolov5-150-epochs/best.pt'], source=/kaggle/tmp/test/image, imgsz=512, conf_thres=0.001, iou_thres=0.5, max_det=50, device=, view_img=False, save_txt=True, save_conf=True, save_crop=False, nosave=False, classes=None, agnostic_nms=False, augment=True, visualize=False, update=False, project=runs/detect, name=exp, exist_ok=True, line_thickness=3, hide_labels=False, hide_conf=False, half=False\r\n",
      "image 1/2 /kaggle/tmp/test/image/51759b5579bc_image.png: 512x512 49 0. opacitys, Done. (0.210s)\r\n",
      "image 2/2 /kaggle/tmp/test/image/65761e66de9f_image.png: 512x512 41 0. opacitys, Done. (0.166s)\r\n",
      "Results saved to runs/detect/exp\r\n",
      "2 labels saved to runs/detect/exp/labels\r\n",
      "Done. (0.565s)\r\n"
     ]
    },
    {
     "data": {
      "application/vnd.jupyter.widget-view+json": {
       "model_id": "0f22a6555a8b4c3490aea7f0906b4d96",
       "version_major": 2,
       "version_minor": 0
      },
      "text/plain": [
       "  0%|          | 0/2 [00:00<?, ?it/s]"
      ]
     },
     "metadata": {},
     "output_type": "display_data"
    }
   ],
   "source": [
    "dim = 512 #1024, 256, 'original'\n",
    "test_dir = f'/kaggle/tmp/{split}/image'\n",
    "#weights_dir = '/kaggle/input/siim-cov19-yolov5-train/yolov5/runs/train/exp/weights/best.pt'\n",
    "weights_dir = '/kaggle/input/weights-of-yolov5-150-epochs/best.pt'\n",
    "\n",
    "shutil.copytree('/kaggle/input/yolov5-repo/yolov5-master', '/kaggle/working/yolov5')\n",
    "os.chdir('/kaggle/working/yolov5') # install dependencies\n",
    "!git pull\n",
    "\n",
    "import torch\n",
    "#from IPython.display import Image, clear_output  # to display images\n",
    "\n",
    "#clear_output()\n",
    "#print('Setup complete. Using torch %s %s' % (torch.__version__, torch.cuda.get_device_properties(0) if torch.cuda.is_available() else 'CPU'))\n",
    "\n",
    "\n",
    "!python detect.py --weights $weights_dir\\\n",
    "--img 512\\\n",
    "--conf 0.001\\\n",
    "--iou 0.5\\\n",
    "--augment\\\n",
    "--max 50\\\n",
    "--source $test_dir\\\n",
    "--save-txt --save-conf --exist-ok\n",
    "def yolo2voc(image_height, image_width, bboxes):\n",
    "    \"\"\"\n",
    "    yolo => [xmid, ymid, w, h] (normalized)\n",
    "    voc  => [x1, y1, x2, y1]\n",
    "\n",
    "    \"\"\" \n",
    "    bboxes = bboxes.copy().astype(float) # otherwise all value will be 0 as voc_pascal dtype is np.int\n",
    "\n",
    "    bboxes[..., [0, 2]] = bboxes[..., [0, 2]]* image_width\n",
    "    bboxes[..., [1, 3]] = bboxes[..., [1, 3]]* image_height\n",
    "\n",
    "    bboxes[..., [0, 1]] = bboxes[..., [0, 1]] - bboxes[..., [2, 3]]/2\n",
    "    bboxes[..., [2, 3]] = bboxes[..., [0, 1]] + bboxes[..., [2, 3]]\n",
    "\n",
    "    return bboxes\n",
    "image_ids = []\n",
    "PredictionStrings = []\n",
    "\n",
    "for file_path in tqdm(glob('runs/detect/exp/labels/*.txt')):\n",
    "    image_id = file_path.split('/')[-1].split('.')[0]\n",
    "    w, h = test_df.loc[test_df.id==image_id,['dim1', 'dim0']].values[0]\n",
    "    f = open(file_path, 'r')\n",
    "    data = np.array(f.read().replace('\\n', ' ').strip().split(' ')).astype(np.float32).reshape(-1, 6)\n",
    "    data = data[:, [0, 5, 1, 2, 3, 4]]\n",
    "    bboxes = list(np.round(np.concatenate((data[:, :2], np.round(yolo2voc(h, w, data[:, 2:]))), axis =1).reshape(-1), 12).astype(str))\n",
    "    for idx in range(len(bboxes)):\n",
    "        bboxes[idx] = str(int(float(bboxes[idx]))) if idx%6!=1 else bboxes[idx]\n",
    "    image_ids.append(image_id)\n",
    "    PredictionStrings.append(' '.join(bboxes))\n",
    "\n",
    "\n",
    "pred_df = pd.DataFrame({'id':image_ids,\n",
    "                        'PredictionString':PredictionStrings})"
   ]
  },
  {
   "cell_type": "code",
   "execution_count": 21,
   "id": "national-sector",
   "metadata": {
    "_kg_hide-output": true,
    "execution": {
     "iopub.execute_input": "2021-07-23T11:44:18.194891Z",
     "iopub.status.busy": "2021-07-23T11:44:18.193954Z",
     "iopub.status.idle": "2021-07-23T11:44:18.391154Z",
     "shell.execute_reply": "2021-07-23T11:44:18.390575Z"
    },
    "papermill": {
     "duration": 0.285894,
     "end_time": "2021-07-23T11:44:18.391326",
     "exception": false,
     "start_time": "2021-07-23T11:44:18.105432",
     "status": "completed"
    },
    "tags": []
   },
   "outputs": [],
   "source": [
    "test_df = test_df.drop(['PredictionString'], axis=1)\n",
    "sub_df = pd.merge(test_df, pred_df, on = 'id', how = 'left').fillna(\"none 1 0 0 1 1\")\n",
    "sub_df = sub_df[['id', 'PredictionString']]\n",
    "for i in range(sub_df.shape[0]):\n",
    "    if sub_df.loc[i,'PredictionString'] == \"none 1 0 0 1 1\":\n",
    "        continue\n",
    "    sub_df_split = sub_df.loc[i,'PredictionString'].split()\n",
    "    sub_df_list = []\n",
    "    for j in range(int(len(sub_df_split) / 6)):\n",
    "        sub_df_list.append('opacity')\n",
    "        sub_df_list.append(sub_df_split[6 * j + 1])\n",
    "        sub_df_list.append(sub_df_split[6 * j + 2])\n",
    "        sub_df_list.append(sub_df_split[6 * j + 3])\n",
    "        sub_df_list.append(sub_df_split[6 * j + 4])\n",
    "        sub_df_list.append(sub_df_split[6 * j + 5])\n",
    "    sub_df.loc[i,'PredictionString'] = ' '.join(sub_df_list)\n",
    "sub_df['none'] = df_2class['none'] \n",
    "for i in range(sub_df.shape[0]):\n",
    "    if sub_df.loc[i,'PredictionString'] != 'none 1 0 0 1 1':\n",
    "        sub_df.loc[i,'PredictionString'] = sub_df.loc[i,'PredictionString'] + ' none ' + str(sub_df.loc[i,'none']) + ' 0 0 1 1'\n",
    "sub_df = sub_df[['id', 'PredictionString']]   \n",
    "df_study = df_study[:study_len]\n",
    "df_study = df_study.append(sub_df).reset_index(drop=True)\n",
    "df_study.to_csv('/kaggle/working/submission.csv',index = False)  \n",
    "shutil.rmtree('/kaggle/working/yolov5')"
   ]
  }
 ],
 "metadata": {
  "kernelspec": {
   "display_name": "Python 3",
   "language": "python",
   "name": "python3"
  },
  "language_info": {
   "codemirror_mode": {
    "name": "ipython",
    "version": 3
   },
   "file_extension": ".py",
   "mimetype": "text/x-python",
   "name": "python",
   "nbconvert_exporter": "python",
   "pygments_lexer": "ipython3",
   "version": "3.7.10"
  },
  "papermill": {
   "default_parameters": {},
   "duration": 479.091958,
   "end_time": "2021-07-23T11:44:22.073799",
   "environment_variables": {},
   "exception": null,
   "input_path": "__notebook__.ipynb",
   "output_path": "__notebook__.ipynb",
   "parameters": {},
   "start_time": "2021-07-23T11:36:22.981841",
   "version": "2.3.3"
  },
  "widgets": {
   "application/vnd.jupyter.widget-state+json": {
    "state": {
     "0f22a6555a8b4c3490aea7f0906b4d96": {
      "model_module": "@jupyter-widgets/controls",
      "model_module_version": "1.5.0",
      "model_name": "HBoxModel",
      "state": {
       "_dom_classes": [],
       "_model_module": "@jupyter-widgets/controls",
       "_model_module_version": "1.5.0",
       "_model_name": "HBoxModel",
       "_view_count": null,
       "_view_module": "@jupyter-widgets/controls",
       "_view_module_version": "1.5.0",
       "_view_name": "HBoxView",
       "box_style": "",
       "children": [
        "IPY_MODEL_f79d6d2d1fa244c3b8dd6683e04ccee7",
        "IPY_MODEL_6079288729d04e8ab772e7bbd19f46ce",
        "IPY_MODEL_c82ff040f1d14f6bb85b4225b2ca681b"
       ],
       "layout": "IPY_MODEL_9017a62a44e14270965d678bb6559fb8"
      }
     },
     "14456c59dedf4117925e67df3f0d963b": {
      "model_module": "@jupyter-widgets/base",
      "model_module_version": "1.2.0",
      "model_name": "LayoutModel",
      "state": {
       "_model_module": "@jupyter-widgets/base",
       "_model_module_version": "1.2.0",
       "_model_name": "LayoutModel",
       "_view_count": null,
       "_view_module": "@jupyter-widgets/base",
       "_view_module_version": "1.2.0",
       "_view_name": "LayoutView",
       "align_content": null,
       "align_items": null,
       "align_self": null,
       "border": null,
       "bottom": null,
       "display": null,
       "flex": null,
       "flex_flow": null,
       "grid_area": null,
       "grid_auto_columns": null,
       "grid_auto_flow": null,
       "grid_auto_rows": null,
       "grid_column": null,
       "grid_gap": null,
       "grid_row": null,
       "grid_template_areas": null,
       "grid_template_columns": null,
       "grid_template_rows": null,
       "height": null,
       "justify_content": null,
       "justify_items": null,
       "left": null,
       "margin": null,
       "max_height": null,
       "max_width": null,
       "min_height": null,
       "min_width": null,
       "object_fit": null,
       "object_position": null,
       "order": null,
       "overflow": null,
       "overflow_x": null,
       "overflow_y": null,
       "padding": null,
       "right": null,
       "top": null,
       "visibility": null,
       "width": null
      }
     },
     "1570b3ab5d5c4c10bbc669be5a7686f9": {
      "model_module": "@jupyter-widgets/controls",
      "model_module_version": "1.5.0",
      "model_name": "DescriptionStyleModel",
      "state": {
       "_model_module": "@jupyter-widgets/controls",
       "_model_module_version": "1.5.0",
       "_model_name": "DescriptionStyleModel",
       "_view_count": null,
       "_view_module": "@jupyter-widgets/base",
       "_view_module_version": "1.2.0",
       "_view_name": "StyleView",
       "description_width": ""
      }
     },
     "6079288729d04e8ab772e7bbd19f46ce": {
      "model_module": "@jupyter-widgets/controls",
      "model_module_version": "1.5.0",
      "model_name": "FloatProgressModel",
      "state": {
       "_dom_classes": [],
       "_model_module": "@jupyter-widgets/controls",
       "_model_module_version": "1.5.0",
       "_model_name": "FloatProgressModel",
       "_view_count": null,
       "_view_module": "@jupyter-widgets/controls",
       "_view_module_version": "1.5.0",
       "_view_name": "ProgressView",
       "bar_style": "success",
       "description": "",
       "description_tooltip": null,
       "layout": "IPY_MODEL_14456c59dedf4117925e67df3f0d963b",
       "max": 2.0,
       "min": 0.0,
       "orientation": "horizontal",
       "style": "IPY_MODEL_87ad5b47a7cc4d09852ae13c463293d9",
       "value": 2.0
      }
     },
     "6a73ef1c0db34f14b4f34c3dcac7e36d": {
      "model_module": "@jupyter-widgets/controls",
      "model_module_version": "1.5.0",
      "model_name": "DescriptionStyleModel",
      "state": {
       "_model_module": "@jupyter-widgets/controls",
       "_model_module_version": "1.5.0",
       "_model_name": "DescriptionStyleModel",
       "_view_count": null,
       "_view_module": "@jupyter-widgets/base",
       "_view_module_version": "1.2.0",
       "_view_name": "StyleView",
       "description_width": ""
      }
     },
     "87ad5b47a7cc4d09852ae13c463293d9": {
      "model_module": "@jupyter-widgets/controls",
      "model_module_version": "1.5.0",
      "model_name": "ProgressStyleModel",
      "state": {
       "_model_module": "@jupyter-widgets/controls",
       "_model_module_version": "1.5.0",
       "_model_name": "ProgressStyleModel",
       "_view_count": null,
       "_view_module": "@jupyter-widgets/base",
       "_view_module_version": "1.2.0",
       "_view_name": "StyleView",
       "bar_color": null,
       "description_width": ""
      }
     },
     "9017a62a44e14270965d678bb6559fb8": {
      "model_module": "@jupyter-widgets/base",
      "model_module_version": "1.2.0",
      "model_name": "LayoutModel",
      "state": {
       "_model_module": "@jupyter-widgets/base",
       "_model_module_version": "1.2.0",
       "_model_name": "LayoutModel",
       "_view_count": null,
       "_view_module": "@jupyter-widgets/base",
       "_view_module_version": "1.2.0",
       "_view_name": "LayoutView",
       "align_content": null,
       "align_items": null,
       "align_self": null,
       "border": null,
       "bottom": null,
       "display": null,
       "flex": null,
       "flex_flow": null,
       "grid_area": null,
       "grid_auto_columns": null,
       "grid_auto_flow": null,
       "grid_auto_rows": null,
       "grid_column": null,
       "grid_gap": null,
       "grid_row": null,
       "grid_template_areas": null,
       "grid_template_columns": null,
       "grid_template_rows": null,
       "height": null,
       "justify_content": null,
       "justify_items": null,
       "left": null,
       "margin": null,
       "max_height": null,
       "max_width": null,
       "min_height": null,
       "min_width": null,
       "object_fit": null,
       "object_position": null,
       "order": null,
       "overflow": null,
       "overflow_x": null,
       "overflow_y": null,
       "padding": null,
       "right": null,
       "top": null,
       "visibility": null,
       "width": null
      }
     },
     "931f33c5fdd246a7ba5508d8cde39bbd": {
      "model_module": "@jupyter-widgets/base",
      "model_module_version": "1.2.0",
      "model_name": "LayoutModel",
      "state": {
       "_model_module": "@jupyter-widgets/base",
       "_model_module_version": "1.2.0",
       "_model_name": "LayoutModel",
       "_view_count": null,
       "_view_module": "@jupyter-widgets/base",
       "_view_module_version": "1.2.0",
       "_view_name": "LayoutView",
       "align_content": null,
       "align_items": null,
       "align_self": null,
       "border": null,
       "bottom": null,
       "display": null,
       "flex": null,
       "flex_flow": null,
       "grid_area": null,
       "grid_auto_columns": null,
       "grid_auto_flow": null,
       "grid_auto_rows": null,
       "grid_column": null,
       "grid_gap": null,
       "grid_row": null,
       "grid_template_areas": null,
       "grid_template_columns": null,
       "grid_template_rows": null,
       "height": null,
       "justify_content": null,
       "justify_items": null,
       "left": null,
       "margin": null,
       "max_height": null,
       "max_width": null,
       "min_height": null,
       "min_width": null,
       "object_fit": null,
       "object_position": null,
       "order": null,
       "overflow": null,
       "overflow_x": null,
       "overflow_y": null,
       "padding": null,
       "right": null,
       "top": null,
       "visibility": null,
       "width": null
      }
     },
     "b9ca04db487042c48ff662218e263f5d": {
      "model_module": "@jupyter-widgets/base",
      "model_module_version": "1.2.0",
      "model_name": "LayoutModel",
      "state": {
       "_model_module": "@jupyter-widgets/base",
       "_model_module_version": "1.2.0",
       "_model_name": "LayoutModel",
       "_view_count": null,
       "_view_module": "@jupyter-widgets/base",
       "_view_module_version": "1.2.0",
       "_view_name": "LayoutView",
       "align_content": null,
       "align_items": null,
       "align_self": null,
       "border": null,
       "bottom": null,
       "display": null,
       "flex": null,
       "flex_flow": null,
       "grid_area": null,
       "grid_auto_columns": null,
       "grid_auto_flow": null,
       "grid_auto_rows": null,
       "grid_column": null,
       "grid_gap": null,
       "grid_row": null,
       "grid_template_areas": null,
       "grid_template_columns": null,
       "grid_template_rows": null,
       "height": null,
       "justify_content": null,
       "justify_items": null,
       "left": null,
       "margin": null,
       "max_height": null,
       "max_width": null,
       "min_height": null,
       "min_width": null,
       "object_fit": null,
       "object_position": null,
       "order": null,
       "overflow": null,
       "overflow_x": null,
       "overflow_y": null,
       "padding": null,
       "right": null,
       "top": null,
       "visibility": null,
       "width": null
      }
     },
     "c82ff040f1d14f6bb85b4225b2ca681b": {
      "model_module": "@jupyter-widgets/controls",
      "model_module_version": "1.5.0",
      "model_name": "HTMLModel",
      "state": {
       "_dom_classes": [],
       "_model_module": "@jupyter-widgets/controls",
       "_model_module_version": "1.5.0",
       "_model_name": "HTMLModel",
       "_view_count": null,
       "_view_module": "@jupyter-widgets/controls",
       "_view_module_version": "1.5.0",
       "_view_name": "HTMLView",
       "description": "",
       "description_tooltip": null,
       "layout": "IPY_MODEL_931f33c5fdd246a7ba5508d8cde39bbd",
       "placeholder": "​",
       "style": "IPY_MODEL_6a73ef1c0db34f14b4f34c3dcac7e36d",
       "value": " 2/2 [00:00&lt;00:00, 41.81it/s]"
      }
     },
     "f79d6d2d1fa244c3b8dd6683e04ccee7": {
      "model_module": "@jupyter-widgets/controls",
      "model_module_version": "1.5.0",
      "model_name": "HTMLModel",
      "state": {
       "_dom_classes": [],
       "_model_module": "@jupyter-widgets/controls",
       "_model_module_version": "1.5.0",
       "_model_name": "HTMLModel",
       "_view_count": null,
       "_view_module": "@jupyter-widgets/controls",
       "_view_module_version": "1.5.0",
       "_view_name": "HTMLView",
       "description": "",
       "description_tooltip": null,
       "layout": "IPY_MODEL_b9ca04db487042c48ff662218e263f5d",
       "placeholder": "​",
       "style": "IPY_MODEL_1570b3ab5d5c4c10bbc669be5a7686f9",
       "value": "100%"
      }
     }
    },
    "version_major": 2,
    "version_minor": 0
   }
  }
 },
 "nbformat": 4,
 "nbformat_minor": 5
}
